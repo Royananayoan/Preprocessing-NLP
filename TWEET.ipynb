{
 "cells": [
  {
   "cell_type": "code",
   "execution_count": 28,
   "metadata": {},
   "outputs": [],
   "source": [
    "import nltk #import library nltk\n",
    "from nltk.tokenize import word_tokenize #import word_tokenize for tokenizing text into words \n",
    "from nltk.corpus import stopwords #import stopwords\n",
    "from Sastrawi.StopWordRemover.StopWordRemoverFactory import StopWordRemoverFactory\n",
    "import re #import regular expression"
   ]
  },
  {
   "cell_type": "code",
   "execution_count": 29,
   "metadata": {},
   "outputs": [
    {
     "name": "stdout",
     "output_type": "stream",
     "text": [
      "Siang, bisa langsung ditanyakan ke Kebidanan FK UB. Terima kasih. https://t.co/5P0KDHlK9r\n",
      "Jadwal Kegiatan Dies Natalis ke-54 UB. Catat tanggalnya dan semarakkan acaranya. https://t.co/YZpBV1YFJK\n",
      "Coming soon : Rangkaian Acara Dies Natalis ke-54 Universitas Brawijaya https://t.co/5xgu0Gj828\n",
      "RT @UB_IO: Beasiswa AMINEF Untuk Pengajar Bahasa Inggris di UB. Deadline aplikasi tanggal 15 April 2017 https://t.co/Kg5Ked96bf @UB_Official\n",
      "RT @UB_IO: Beasiswa untuk Training dan Studi Lanjut ke Belgia. @UB_Official @UBTV_Brawijaya https://t.co/eEHYiNzbrf\n",
      "RT @UB_IT: Periksa Soal: cek jawaban kamu.Untuk kembali ke soal,klik nomornya.Tombol SELESAI di klik jika semua soal sudah dijawab &amp; nilai…\n",
      "RT @UB_IT: Tes kompetensi TI selama 90 menit/90 soal (30 Excel,30 P.Point,30 Word). Soal tiap orang berbeda krn bank soal lebih dari 3000.…\n",
      "RT @UnileverIDN: Prosesi penutupan Bulan Kesehatan Gigi Nasional 2016 di FKG Univ Brawijaya #BKGN #Pepsodent @UB_Official @TanyaPepsodent @…\n",
      "Selamat siang. Untuk jadwal penerimaan mahasiswa S2 bisa dilihat di https://t.co/1Uuv3lGe1O atau di… https://t.co/CYvxFREg3M\n",
      "RT @kempanrb: bersama Korpri meneguhkan netralitas dan meningkatkan profesionalisme Aparatur Sipil Negara. Selamat HUT KORPRI ke 45!! https…\n",
      "RT @UB_IO: Sosialisasi Studi S2 dan Beasiswa dari Swedia. hari ini, 16.00-17.00 di Lt.8 Rektorat UB, Free entry, kuota terbatas 150 kursi.…\n",
      "RT @UB_IO: Kesempatan terbaru untuk studi S2 dan S3 di luar negeri dengan beasiswa. Informasi lebih lengkap https://t.co/u0RkZJTtsV @UB_Off…\n",
      "RT @UB_IO: Don't forget, British Winter Education Fair, Today 13.00 at Gedung Kebudayaan Mahasiswa UB https://t.co/dsel5k3Ii9 @UB_Official\n",
      "RT @UB_IO: Program Pertukaran Pelajar dari AMINEF untuk D1, D3 dan S1 https://t.co/rwV7N7sAX6 @UB_Official\n",
      "RT @UB_IO: Fullbright Scholarship untuk S2 dan S3 telah dibuka, silahkan mengunjungi https://t.co/FbNchPlT9W @UB_Official\n",
      "RT @UB_IO: British Winter Education Fair. Don't miss it. Scholarships info and many more @UB_Official @UBTV_Brawijaya https://t.co/iA0e6uHB…\n",
      "RT @UB_IO: International Student Summit adalah agenda tahunan DIKTI untuk kompetisi mahasiswa asing dan lokal se-Indonesia @UB_Official\n",
      "RT @UB_IO: Sosialisasi International Student Summit and Competition by UNAIR. Hari ini Kamis 13/10/16 pukul 12.00, di Lt8 Rektorat. Free. @…\n",
      "RT @UB_IT: Pengumuman Jadwal Test Sertifikasi Kompetensi TI Gelombang 54\n",
      "https://t.co/vhHiWN0ENq\n",
      "RT @UB_IO: Nuffic Neso dan DAAD menawarkan beasiswa pendidikan untuk S1 hingga S3, summer course, dan pelatihan https://t.co/u0RkZJTtsV @UB…\n",
      "RT @UB_IO: Salah satu partner UB, Ritsumeikan University membuka Short-term Exchange Program https://t.co/fc4FcPASoN @UB_Official\n",
      "Rektor : selamat dan berbahagialah menjadi bagian dari 12.000 mahasiswa baru UB. Selamat belajar. #RajaBrawijaya2016 #Pusaka54\n",
      "Pelepasan balon oleh Rektor dan Dirjen dari Kemenristekdikti https://t.co/kBReodtkIk\n",
      "Dengan dibunyikannya gong, secara resmi telah dimulainya pelaksanaan PKK-Maba 2016 #RajaBrawijaya2016 #Pusaka54 https://t.co/Xe7Hfj3TqO\n",
      "Rektor Universitas Brawijaya beserta jajaran dan undangan memasuki lapangan upacara #RajaBrawijaya2016 #Pusaka54\n",
      "Ayo Dukung! https://t.co/ZuCSWMojex\n",
      "#INFO 4. Pintu gerbang dibuka pada Selasa, 30 Agustus 2016, pukul 09.00 WIB-15.30 WIB dan 17.00 WIB-selesai #RajaBrawijaya2016\n",
      "#INFO 3. Pintu Gerbang keluar yang dibuka : Pintu Gerbang Pos Veteran dan Pintu Gerbang Pos BNI'46 #RajaBrawijaya2016\n",
      "#INFO 2. Penutupan dilaksanakan pada hari : Selasa, 30 Agustus 2016, pukul 06.30-09.00 WIB dan 15.30-17.00 WIB #RajaBrawijaya2016\n",
      "#INFO 1. Penutupan jalan masuk pada : Pintu Gerbang Pos Veteran, Pos BNI'46, Pos Jl, M. Haryono (Makam) dan Pos KPRI #RajaBrawijaya2016\n",
      "#INFO Sehubungan dengan akan diselenggarakannya PKK-Maba #RajaBrawijaya2016 dengan ini diberitahukan bahwa :\n"
     ]
    }
   ],
   "source": [
    "file = open('tweet-data.txt', 'r')\n",
    "text_data = file.read()\n",
    "print(text_data)"
   ]
  },
  {
   "cell_type": "code",
   "execution_count": 38,
   "metadata": {},
   "outputs": [],
   "source": [
    "#remove links\n",
    "def removelink(text):\n",
    "    result = re.sub(r\"http\\S+\", \"\", text)\n",
    "    return result"
   ]
  },
  {
   "cell_type": "code",
   "execution_count": 31,
   "metadata": {},
   "outputs": [
    {
     "name": "stdout",
     "output_type": "stream",
     "text": [
      "Siang, bisa langsung ditanyakan ke Kebidanan FK UB. Terima kasih. \n",
      "Jadwal Kegiatan Dies Natalis ke- UB. Catat tanggalnya dan semarakkan acaranya. \n",
      "Coming soon : Rangkaian Acara Dies Natalis ke- Universitas Brawijaya \n",
      "RT @UB_IO: Beasiswa AMINEF Untuk Pengajar Bahasa Inggris di UB. Deadline aplikasi tanggal  April   @UB_Official\n",
      "RT @UB_IO: Beasiswa untuk Training dan Studi Lanjut ke Belgia. @UB_Official @UBTV_Brawijaya \n",
      "RT @UB_IT: Periksa Soal: cek jawaban kamu.Untuk kembali ke soal,klik nomornya.Tombol SELESAI di klik jika semua soal sudah dijawab &amp; nilai…\n",
      "RT @UB_IT: Tes kompetensi TI selama  menit/ soal ( Excel, P.Point, Word). Soal tiap orang berbeda krn bank soal lebih dari .…\n",
      "RT @UnileverIDN: Prosesi penutupan Bulan Kesehatan Gigi Nasional  di FKG Univ Brawijaya #BKGN #Pepsodent @UB_Official @TanyaPepsodent @…\n",
      "Selamat siang. Untuk jadwal penerimaan mahasiswa S bisa dilihat di  atau di… \n",
      "RT @kempanrb: bersama Korpri meneguhkan netralitas dan meningkatkan profesionalisme Aparatur Sipil Negara. Selamat HUT KORPRI ke !! \n",
      "RT @UB_IO: Sosialisasi Studi S dan Beasiswa dari Swedia. hari ini, .-. di Lt. Rektorat UB, Free entry, kuota terbatas  kursi.…\n",
      "RT @UB_IO: Kesempatan terbaru untuk studi S dan S di luar negeri dengan beasiswa. Informasi lebih lengkap  @UB_Off…\n",
      "RT @UB_IO: Don't forget, British Winter Education Fair, Today . at Gedung Kebudayaan Mahasiswa UB  @UB_Official\n",
      "RT @UB_IO: Program Pertukaran Pelajar dari AMINEF untuk D, D dan S  @UB_Official\n",
      "RT @UB_IO: Fullbright Scholarship untuk S dan S telah dibuka, silahkan mengunjungi  @UB_Official\n",
      "RT @UB_IO: British Winter Education Fair. Don't miss it. Scholarships info and many more @UB_Official @UBTV_Brawijaya \n",
      "RT @UB_IO: International Student Summit adalah agenda tahunan DIKTI untuk kompetisi mahasiswa asing dan lokal se-Indonesia @UB_Official\n",
      "RT @UB_IO: Sosialisasi International Student Summit and Competition by UNAIR. Hari ini Kamis // pukul ., di Lt Rektorat. Free. @…\n",
      "RT @UB_IT: Pengumuman Jadwal Test Sertifikasi Kompetensi TI Gelombang \n",
      "\n",
      "RT @UB_IO: Nuffic Neso dan DAAD menawarkan beasiswa pendidikan untuk S hingga S, summer course, dan pelatihan  @UB…\n",
      "RT @UB_IO: Salah satu partner UB, Ritsumeikan University membuka Short-term Exchange Program  @UB_Official\n",
      "Rektor : selamat dan berbahagialah menjadi bagian dari . mahasiswa baru UB. Selamat belajar. #RajaBrawijaya #Pusaka\n",
      "Pelepasan balon oleh Rektor dan Dirjen dari Kemenristekdikti \n",
      "Dengan dibunyikannya gong, secara resmi telah dimulainya pelaksanaan PKK-Maba  #RajaBrawijaya #Pusaka \n",
      "Rektor Universitas Brawijaya beserta jajaran dan undangan memasuki lapangan upacara #RajaBrawijaya #Pusaka\n",
      "Ayo Dukung! \n",
      "#INFO . Pintu gerbang dibuka pada Selasa,  Agustus , pukul . WIB-. WIB dan . WIB-selesai #RajaBrawijaya\n",
      "#INFO . Pintu Gerbang keluar yang dibuka : Pintu Gerbang Pos Veteran dan Pintu Gerbang Pos BNI' #RajaBrawijaya\n",
      "#INFO . Penutupan dilaksanakan pada hari : Selasa,  Agustus , pukul .-. WIB dan .-. WIB #RajaBrawijaya\n",
      "#INFO . Penutupan jalan masuk pada : Pintu Gerbang Pos Veteran, Pos BNI', Pos Jl, M. Haryono (Makam) dan Pos KPRI #RajaBrawijaya\n",
      "#INFO Sehubungan dengan akan diselenggarakannya PKK-Maba #RajaBrawijaya dengan ini diberitahukan bahwa :\n"
     ]
    }
   ],
   "source": [
    "#remove digits\n",
    "def removeDigit(str):\n",
    "    new_string =  re.sub(r\"[0-9]\", \"\", str)\n",
    "    return new_string\n",
    "\n",
    "rmvdgt = removeDigit(result)\n",
    "print(rmvdgt)"
   ]
  },
  {
   "cell_type": "code",
   "execution_count": 32,
   "metadata": {},
   "outputs": [
    {
     "name": "stdout",
     "output_type": "stream",
     "text": [
      "Siang bisa langsung ditanyakan ke Kebidanan FK UB Terima kasih Jadwal Kegiatan Dies Natalis ke UB Catat tanggalnya dan semarakkan acaranya Coming soon Rangkaian Acara Dies Natalis ke Universitas Brawijaya UB IO Beasiswa AMINEF Untuk Pengajar Bahasa Inggris di UB Deadline aplikasi tanggal April Official UB IO Beasiswa untuk Training dan Studi Lanjut ke Belgia Official Brawijaya UB IT Periksa Soal cek jawaban kamu Untuk kembali ke soal klik nomornya Tombol SELESAI di klik jika semua soal sudah dijawab amp nilai UB IT Tes kompetensi TI selama menit soal Excel P Point Word Soal tiap orang berbeda krn bank soal lebih dari UnileverIDN Prosesi penutupan Bulan Kesehatan Gigi Nasional di FKG Univ Brawijaya BKGN Pepsodent Official Selamat siang Untuk jadwal penerimaan mahasiswa S bisa dilihat di atau di kempanrb bersama Korpri meneguhkan netralitas dan meningkatkan profesionalisme Aparatur Sipil Negara Selamat HUT KORPRI ke UB IO Sosialisasi Studi S dan Beasiswa dari Swedia hari ini di Lt Rektorat UB Free entry kuota terbatas kursi UB IO Kesempatan terbaru untuk studi S dan S di luar negeri dengan beasiswa Informasi lebih lengkap Off UB IO Don t forget British Winter Education Fair Today at Gedung Kebudayaan Mahasiswa UB Official UB IO Program Pertukaran Pelajar dari AMINEF untuk D D dan S Official UB IO Fullbright Scholarship untuk S dan S telah dibuka silahkan mengunjungi Official UB IO British Winter Education Fair Don t miss it Scholarships info and many more Official Brawijaya UB IO International Student Summit adalah agenda tahunan DIKTI untuk kompetisi mahasiswa asing dan lokal se Indonesia Official UB IO Sosialisasi International Student Summit and Competition by UNAIR Hari ini Kamis pukul di Lt Rektorat Free UB IT Pengumuman Jadwal Test Sertifikasi Kompetensi TI Gelombang UB IO Nuffic Neso dan DAAD menawarkan beasiswa pendidikan untuk S hingga S summer course dan pelatihan UB IO Salah satu partner UB Ritsumeikan University membuka Short term Exchange Program Official Rektor selamat dan berbahagialah menjadi bagian dari mahasiswa baru UB Selamat belajar RajaBrawijaya Pusaka Pelepasan balon oleh Rektor dan Dirjen dari Kemenristekdikti Dengan dibunyikannya gong secara resmi telah dimulainya pelaksanaan PKK Maba RajaBrawijaya Pusaka Rektor Universitas Brawijaya beserta jajaran dan undangan memasuki lapangan upacara RajaBrawijaya Pusaka Ayo Dukung INFO Pintu gerbang dibuka pada Selasa Agustus pukul WIB WIB dan WIB selesai RajaBrawijaya INFO Pintu Gerbang keluar yang dibuka Pintu Gerbang Pos Veteran dan Pintu Gerbang Pos BNI RajaBrawijaya INFO Penutupan dilaksanakan pada hari Selasa Agustus pukul WIB dan WIB RajaBrawijaya INFO Penutupan jalan masuk pada Pintu Gerbang Pos Veteran Pos BNI Pos Jl M Haryono Makam dan Pos KPRI RajaBrawijaya INFO Sehubungan dengan akan diselenggarakannya PKK Maba RajaBrawijaya dengan ini diberitahukan bahwa\n"
     ]
    }
   ],
   "source": [
    "#remove symbols\n",
    "Tweet = ' '.join(re.sub(\"(RT) | (@[A-Za-z0-9]+)|([^0-9A-Za-z \\t])|(\\w+:\\/\\/\\S+)\",\" \",rmvdgt).split())\n",
    "print(Tweet)"
   ]
  },
  {
   "cell_type": "code",
   "execution_count": 33,
   "metadata": {},
   "outputs": [
    {
     "name": "stdout",
     "output_type": "stream",
     "text": [
      "Siang langsung Kebidanan FK UB Terima kasih Jadwal Kegiatan Dies Natalis UB Catat tanggalnya semarakkan acaranya Coming soon Rangkaian Acara Dies Natalis Universitas Brawijaya UB IO Beasiswa AMINEF Untuk Pengajar Bahasa Inggris UB Deadline aplikasi tanggal April Official UB IO Beasiswa Training Studi Lanjut Belgia Official Brawijaya UB IT Periksa Soal cek Untuk klik nomornya Tombol SELESAI klik amp nilai UB IT Tes kompetensi TI menit Excel P Point Word Soal orang berbeda krn bank UnileverIDN Prosesi penutupan Bulan Kesehatan Gigi Nasional FKG Univ Brawijaya BKGN Pepsodent Official Selamat siang Untuk jadwal penerimaan mahasiswa S kempanrb Korpri meneguhkan netralitas meningkatkan profesionalisme Aparatur Sipil Negara Selamat HUT KORPRI UB IO Sosialisasi Studi S Beasiswa Swedia Lt Rektorat UB Free entry kuota terbatas kursi UB IO Kesempatan terbaru studi S S negeri beasiswa Informasi lengkap Off UB IO Don t forget British Winter Education Fair Today at Gedung Kebudayaan Mahasiswa UB Official UB IO Program Pertukaran Pelajar AMINEF D D S Official UB IO Fullbright Scholarship S S dibuka silahkan mengunjungi Official UB IO British Winter Education Fair Don t miss it Scholarships info and many more Official Brawijaya UB IO International Student Summit agenda tahunan DIKTI kompetisi mahasiswa asing lokal Indonesia Official UB IO Sosialisasi International Student Summit and Competition by UNAIR Hari Kamis Lt Rektorat Free UB IT Pengumuman Jadwal Test Sertifikasi Kompetensi TI Gelombang UB IO Nuffic Neso DAAD menawarkan beasiswa pendidikan S S summer course pelatihan UB IO Salah partner UB Ritsumeikan University membuka Short term Exchange Program Official Rektor selamat berbahagialah mahasiswa UB Selamat belajar RajaBrawijaya Pusaka Pelepasan balon Rektor Dirjen Kemenristekdikti Dengan dibunyikannya gong resmi pelaksanaan PKK Maba RajaBrawijaya Pusaka Rektor Universitas Brawijaya beserta jajaran undangan memasuki lapangan upacara RajaBrawijaya Pusaka Ayo Dukung INFO Pintu gerbang dibuka Selasa Agustus WIB WIB WIB selesai RajaBrawijaya INFO Pintu Gerbang dibuka Pintu Gerbang Pos Veteran Pintu Gerbang Pos BNI RajaBrawijaya INFO Penutupan dilaksanakan Selasa Agustus WIB WIB RajaBrawijaya INFO Penutupan jalan masuk Pintu Gerbang Pos Veteran Pos BNI Pos Jl M Haryono Makam Pos KPRI RajaBrawijaya INFO Sehubungan diselenggarakannya PKK Maba RajaBrawijaya diberitahukan\n"
     ]
    }
   ],
   "source": [
    "#stopword indonesia\n",
    "factory = StopWordRemoverFactory()\n",
    "stopword = factory.create_stop_word_remover()\n",
    "stop_words = set(stopwords.words('indonesian')) \n",
    "    \n",
    "def stpword(str):\n",
    "    word_tokens = word_tokenize(str) \n",
    "    filtered_sentence = [w for w in word_tokens if not w in stop_words]  \n",
    "    filtered_sentence = [] \n",
    "    \n",
    "    for w in word_tokens: \n",
    "        if w not in stop_words: \n",
    "            filtered_sentence.append(w)\n",
    "    return filtered_sentence\n",
    "stpind = stpword(Tweet)\n",
    "stpind = ' '.join(stpind)\n",
    "print(stpind)"
   ]
  },
  {
   "cell_type": "code",
   "execution_count": 34,
   "metadata": {},
   "outputs": [
    {
     "name": "stdout",
     "output_type": "stream",
     "text": [
      "['Siang', 'langsung', 'Kebidanan', 'FK', 'UB', 'Terima', 'kasih', 'Jadwal', 'Kegiatan', 'Dies', 'Natalis', 'UB', 'Catat', 'tanggalnya', 'semarakkan', 'acaranya', 'Coming', 'soon', 'Rangkaian', 'Acara', 'Dies', 'Natalis', 'Universitas', 'Brawijaya', 'UB', 'IO', 'Beasiswa', 'AMINEF', 'Untuk', 'Pengajar', 'Bahasa', 'Inggris', 'UB', 'Deadline', 'aplikasi', 'tanggal', 'April', 'Official', 'UB', 'IO', 'Beasiswa', 'Training', 'Studi', 'Lanjut', 'Belgia', 'Official', 'Brawijaya', 'UB', 'IT', 'Periksa', 'Soal', 'cek', 'Untuk', 'klik', 'nomornya', 'Tombol', 'SELESAI', 'klik', 'amp', 'nilai', 'UB', 'IT', 'Tes', 'kompetensi', 'TI', 'menit', 'Excel', 'P', 'Point', 'Word', 'Soal', 'orang', 'berbeda', 'krn', 'bank', 'UnileverIDN', 'Prosesi', 'penutupan', 'Bulan', 'Kesehatan', 'Gigi', 'Nasional', 'FKG', 'Univ', 'Brawijaya', 'BKGN', 'Pepsodent', 'Official', 'Selamat', 'siang', 'Untuk', 'jadwal', 'penerimaan', 'mahasiswa', 'S', 'kempanrb', 'Korpri', 'meneguhkan', 'netralitas', 'meningkatkan', 'profesionalisme', 'Aparatur', 'Sipil', 'Negara', 'Selamat', 'HUT', 'KORPRI', 'UB', 'IO', 'Sosialisasi', 'Studi', 'S', 'Beasiswa', 'Swedia', 'Lt', 'Rektorat', 'UB', 'Free', 'entry', 'kuota', 'terbatas', 'kursi', 'UB', 'IO', 'Kesempatan', 'terbaru', 'studi', 'S', 'S', 'negeri', 'beasiswa', 'Informasi', 'lengkap', 'Off', 'UB', 'IO', 'Don', 't', 'forget', 'British', 'Winter', 'Education', 'Fair', 'Today', 'at', 'Gedung', 'Kebudayaan', 'Mahasiswa', 'UB', 'Official', 'UB', 'IO', 'Program', 'Pertukaran', 'Pelajar', 'AMINEF', 'D', 'D', 'S', 'Official', 'UB', 'IO', 'Fullbright', 'Scholarship', 'S', 'S', 'dibuka', 'silahkan', 'mengunjungi', 'Official', 'UB', 'IO', 'British', 'Winter', 'Education', 'Fair', 'Don', 't', 'miss', 'it', 'Scholarships', 'info', 'and', 'many', 'more', 'Official', 'Brawijaya', 'UB', 'IO', 'International', 'Student', 'Summit', 'agenda', 'tahunan', 'DIKTI', 'kompetisi', 'mahasiswa', 'asing', 'lokal', 'Indonesia', 'Official', 'UB', 'IO', 'Sosialisasi', 'International', 'Student', 'Summit', 'and', 'Competition', 'by', 'UNAIR', 'Hari', 'Kamis', 'Lt', 'Rektorat', 'Free', 'UB', 'IT', 'Pengumuman', 'Jadwal', 'Test', 'Sertifikasi', 'Kompetensi', 'TI', 'Gelombang', 'UB', 'IO', 'Nuffic', 'Neso', 'DAAD', 'menawarkan', 'beasiswa', 'pendidikan', 'S', 'S', 'summer', 'course', 'pelatihan', 'UB', 'IO', 'Salah', 'partner', 'UB', 'Ritsumeikan', 'University', 'membuka', 'Short', 'term', 'Exchange', 'Program', 'Official', 'Rektor', 'selamat', 'berbahagialah', 'mahasiswa', 'UB', 'Selamat', 'belajar', 'RajaBrawijaya', 'Pusaka', 'Pelepasan', 'balon', 'Rektor', 'Dirjen', 'Kemenristekdikti', 'Dengan', 'dibunyikannya', 'gong', 'resmi', 'pelaksanaan', 'PKK', 'Maba', 'RajaBrawijaya', 'Pusaka', 'Rektor', 'Universitas', 'Brawijaya', 'beserta', 'jajaran', 'undangan', 'memasuki', 'lapangan', 'upacara', 'RajaBrawijaya', 'Pusaka', 'Ayo', 'Dukung', 'INFO', 'Pintu', 'gerbang', 'dibuka', 'Selasa', 'Agustus', 'WIB', 'WIB', 'WIB', 'selesai', 'RajaBrawijaya', 'INFO', 'Pintu', 'Gerbang', 'dibuka', 'Pintu', 'Gerbang', 'Pos', 'Veteran', 'Pintu', 'Gerbang', 'Pos', 'BNI', 'RajaBrawijaya', 'INFO', 'Penutupan', 'dilaksanakan', 'Selasa', 'Agustus', 'WIB', 'WIB', 'RajaBrawijaya', 'INFO', 'Penutupan', 'jalan', 'masuk', 'Pintu', 'Gerbang', 'Pos', 'Veteran', 'Pos', 'BNI', 'Pos', 'Jl', 'M', 'Haryono', 'Makam', 'Pos', 'KPRI', 'RajaBrawijaya', 'INFO', 'Sehubungan', 'diselenggarakannya', 'PKK', 'Maba', 'RajaBrawijaya', 'diberitahukan']\n"
     ]
    }
   ],
   "source": [
    "#word tokenization\n",
    "def word_tokenization(s):\n",
    "    tokens = word_tokenize(s)\n",
    "\n",
    "    return tokens\n",
    "\n",
    "tkind = word_tokenization(stpind)\n",
    "print(tkind)"
   ]
  },
  {
   "cell_type": "code",
   "execution_count": 35,
   "metadata": {},
   "outputs": [
    {
     "name": "stdout",
     "output_type": "stream",
     "text": [
      "Siang langsung Kebidanan FK UB Terima kasih Jadwal Kegiatan Dies Natalis UB Catat tanggalnya semarakkan acaranya Coming soon Rangkaian Acara Dies Natalis Universitas Brawijaya UB IO Beasiswa AMINEF Untuk Pengajar Bahasa Inggris UB Deadline aplikasi tanggal April Official UB IO Beasiswa Training Studi Lanjut Belgia Official Brawijaya UB IT Periksa Soal cek Untuk klik nomornya Tombol SELESAI klik amp nilai UB IT Tes kompetensi TI menit Excel P Point Word Soal orang berbeda krn bank UnileverIDN Prosesi penutupan Bulan Kesehatan Gigi Nasional FKG Univ Brawijaya BKGN Pepsodent Official Selamat siang Untuk jadwal penerimaan mahasiswa S kempanrb Korpri meneguhkan netralitas meningkatkan profesionalisme Aparatur Sipil Negara Selamat HUT KORPRI UB IO Sosialisasi Studi S Beasiswa Swedia Lt Rektorat UB Free entry kuota terbatas kursi UB IO Kesempatan terbaru studi S S negeri beasiswa Informasi lengkap Off UB IO Don t forget British Winter Education Fair Today at Gedung Kebudayaan Mahasiswa UB Official UB IO Program Pertukaran Pelajar AMINEF D D S Official UB IO Fullbright Scholarship S S dibuka silahkan mengunjungi Official UB IO British Winter Education Fair Don t miss it Scholarships info and many more Official Brawijaya UB IO International Student Summit agenda tahunan DIKTI kompetisi mahasiswa asing lokal Indonesia Official UB IO Sosialisasi International Student Summit and Competition by UNAIR Hari Kamis Lt Rektorat Free UB IT Pengumuman Jadwal Test Sertifikasi Kompetensi TI Gelombang UB IO Nuffic Neso DAAD menawarkan beasiswa pendidikan S S summer course pelatihan UB IO Salah partner UB Ritsumeikan University membuka Short term Exchange Program Official Rektor selamat berbahagialah mahasiswa UB Selamat belajar RajaBrawijaya Pusaka Pelepasan balon Rektor Dirjen Kemenristekdikti Dengan dibunyikannya gong resmi pelaksanaan PKK Maba RajaBrawijaya Pusaka Rektor Universitas Brawijaya beserta jajaran undangan memasuki lapangan upacara RajaBrawijaya Pusaka Ayo Dukung INFO Pintu gerbang dibuka Selasa Agustus WIB WIB WIB selesai RajaBrawijaya INFO Pintu Gerbang dibuka Pintu Gerbang Pos Veteran Pintu Gerbang Pos BNI RajaBrawijaya INFO Penutupan dilaksanakan Selasa Agustus WIB WIB RajaBrawijaya INFO Penutupan jalan masuk Pintu Gerbang Pos Veteran Pos BNI Pos Jl M Haryono Makam Pos KPRI RajaBrawijaya INFO Sehubungan diselenggarakannya PKK Maba RajaBrawijaya diberitahukan\n"
     ]
    }
   ],
   "source": [
    "#remove extra spaces\n",
    "result = ' '.join(tkind)\n",
    "print(result)"
   ]
  }
 ],
 "metadata": {
  "kernelspec": {
   "display_name": "Python 3",
   "language": "python",
   "name": "python3"
  },
  "language_info": {
   "codemirror_mode": {
    "name": "ipython",
    "version": 3
   },
   "file_extension": ".py",
   "mimetype": "text/x-python",
   "name": "python",
   "nbconvert_exporter": "python",
   "pygments_lexer": "ipython3",
   "version": "3.6.5"
  }
 },
 "nbformat": 4,
 "nbformat_minor": 2
}
