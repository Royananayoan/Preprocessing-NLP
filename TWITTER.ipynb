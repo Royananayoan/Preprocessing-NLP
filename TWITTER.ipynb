{
 "cells": [
  {
   "cell_type": "code",
   "execution_count": 11,
   "metadata": {},
   "outputs": [],
   "source": [
    "import nltk #import library nltk\n",
    "from nltk.tokenize import word_tokenize #import word_tokenize for tokenizing text into words \n",
    "from nltk.corpus import stopwords #import stopwords\n",
    "from Sastrawi.StopWordRemover.StopWordRemoverFactory import StopWordRemoverFactory\n",
    "import re #import regular expression"
   ]
  },
  {
   "cell_type": "code",
   "execution_count": 14,
   "metadata": {},
   "outputs": [],
   "source": [
    "#remove links\n",
    "def rmvlink(s):\n",
    "    result = re.sub(r\"http\\S+\", \"\", s)\n",
    "    return result\n",
    "\n",
    "#remove digits\n",
    "def removeDigit(str):\n",
    "    new_string =  re.sub(r\"[0-9]\", \"\", str)\n",
    "    return new_string\n",
    "\n",
    "#remove symbols and punctuation\n",
    "def removeSymbols(str):\n",
    "    Tweet = ' '.join(re.sub(\"(RT) | (@[A-Za-z0-9]+)|([^0-9A-Za-z \\t])|(\\w+:\\/\\/\\S+)\",\" \",str).split())\n",
    "    return Tweet\n",
    "\n",
    "#stopword indonesia\n",
    "factory = StopWordRemoverFactory()\n",
    "stopword = factory.create_stop_word_remover()\n",
    "stop_words = set(stopwords.words('indonesian')) \n",
    "    \n",
    "def stpword(str):\n",
    "    word_tokens = word_tokenize(str) \n",
    "    filtered_sentence = [w for w in word_tokens if not w in stop_words]  \n",
    "    filtered_sentence = [] \n",
    "    \n",
    "    for w in word_tokens: \n",
    "        if w not in stop_words: \n",
    "            filtered_sentence.append(w)\n",
    "    return filtered_sentence\n",
    "\n",
    "#word tokenization\n",
    "def word_tokenization(s):\n",
    "    tokens = word_tokenize(s)\n",
    "\n",
    "    return tokens"
   ]
  },
  {
   "cell_type": "code",
   "execution_count": 15,
   "metadata": {},
   "outputs": [
    {
     "name": "stdout",
     "output_type": "stream",
     "text": [
      "Siang langsung Kebidanan FK UB Terima kasih Jadwal Kegiatan Dies Natalis UB Catat tanggalnya semarakkan acaranya Coming soon Rangkaian Acara Dies Natalis Universitas Brawijaya UB IO Beasiswa AMINEF Untuk Pengajar Bahasa Inggris UB Deadline aplikasi tanggal April Official UB IO Beasiswa Training Studi Lanjut Belgia Official Brawijaya UB IT Periksa Soal cek Untuk klik nomornya Tombol SELESAI klik amp nilai UB IT Tes kompetensi TI menit Excel P Point Word Soal orang berbeda krn bank UnileverIDN Prosesi penutupan Bulan Kesehatan Gigi Nasional FKG Univ Brawijaya BKGN Pepsodent Official Selamat siang Untuk jadwal penerimaan mahasiswa S kempanrb Korpri meneguhkan netralitas meningkatkan profesionalisme Aparatur Sipil Negara Selamat HUT KORPRI UB IO Sosialisasi Studi S Beasiswa Swedia Lt Rektorat UB Free entry kuota terbatas kursi UB IO Kesempatan terbaru studi S S negeri beasiswa Informasi lengkap Off UB IO Don t forget British Winter Education Fair Today at Gedung Kebudayaan Mahasiswa UB Official UB IO Program Pertukaran Pelajar AMINEF D D S Official UB IO Fullbright Scholarship S S dibuka silahkan mengunjungi Official UB IO British Winter Education Fair Don t miss it Scholarships info and many more Official Brawijaya UB IO International Student Summit agenda tahunan DIKTI kompetisi mahasiswa asing lokal Indonesia Official UB IO Sosialisasi International Student Summit and Competition by UNAIR Hari Kamis Lt Rektorat Free UB IT Pengumuman Jadwal Test Sertifikasi Kompetensi TI Gelombang UB IO Nuffic Neso DAAD menawarkan beasiswa pendidikan S S summer course pelatihan UB IO Salah partner UB Ritsumeikan University membuka Short term Exchange Program Official Rektor selamat berbahagialah mahasiswa UB Selamat belajar RajaBrawijaya Pusaka Pelepasan balon Rektor Dirjen Kemenristekdikti Dengan dibunyikannya gong resmi pelaksanaan PKK Maba RajaBrawijaya Pusaka Rektor Universitas Brawijaya beserta jajaran undangan memasuki lapangan upacara RajaBrawijaya Pusaka Ayo Dukung INFO Pintu gerbang dibuka Selasa Agustus WIB WIB WIB selesai RajaBrawijaya INFO Pintu Gerbang dibuka Pintu Gerbang Pos Veteran Pintu Gerbang Pos BNI RajaBrawijaya INFO Penutupan dilaksanakan Selasa Agustus WIB WIB RajaBrawijaya INFO Penutupan jalan masuk Pintu Gerbang Pos Veteran Pos BNI Pos Jl M Haryono Makam Pos KPRI RajaBrawijaya INFO Sehubungan diselenggarakannya PKK Maba RajaBrawijaya diberitahukan\n"
     ]
    }
   ],
   "source": [
    "def main():\n",
    "    file = open('tweet-data.txt', 'r')\n",
    "    text_data = file.read()\n",
    "    data = rmvlink(text_data)\n",
    "    data1 = removeDigit(data)\n",
    "    data2 = removeSymbols(data1)\n",
    "    data3 = stpword(data2)\n",
    "    data3 = ' '.join(data3)\n",
    "    data4 = word_tokenization(data3)\n",
    "    #remove extra spaces\n",
    "    result = ' '.join(data4)\n",
    "    print(result)\n",
    "    \n",
    "if __name__== \"__main__\":\n",
    "    main()"
   ]
  }
 ],
 "metadata": {
  "kernelspec": {
   "display_name": "Python 3",
   "language": "python",
   "name": "python3"
  },
  "language_info": {
   "codemirror_mode": {
    "name": "ipython",
    "version": 3
   },
   "file_extension": ".py",
   "mimetype": "text/x-python",
   "name": "python",
   "nbconvert_exporter": "python",
   "pygments_lexer": "ipython3",
   "version": "3.6.5"
  }
 },
 "nbformat": 4,
 "nbformat_minor": 2
}
