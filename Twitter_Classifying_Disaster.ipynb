{
 "cells": [
  {
   "cell_type": "code",
   "execution_count": 48,
   "metadata": {},
   "outputs": [],
   "source": [
    "from textblob import TextBlob\n",
    "from textblob.classifiers import NaiveBayesClassifier\n",
    "from nltk.corpus import stopwords\n",
    "from nltk.tokenize import word_tokenize\n",
    "import csv\n",
    "import nltk\n",
    "import pandas\n",
    "import re\n",
    "\n",
    "maxwell = pandas.read_csv('disaster.csv', usecols=[\"data_tweet\", \"sentimen\"])\n",
    "dt_tweet = maxwell[\"data_tweet\"].tolist()\n",
    "sntmn = maxwell[\"sentimen\"].tolist()"
   ]
  },
  {
   "cell_type": "code",
   "execution_count": 49,
   "metadata": {},
   "outputs": [],
   "source": [
    "def cleanhtml(raw_html):\n",
    "  cleanr = re.compile('<.*?>')\n",
    "  cleantext = re.sub(cleanr, '', raw_html)\n",
    "  return cleantext\n",
    "\n",
    "clnhtml = []\n",
    "i = 0\n",
    "\n",
    "while i < len(dt_tweet):\n",
    "    baru = cleanhtml(dt_tweet[i])\n",
    "    clnhtml.append(baru)\n",
    "    i += 1\n",
    "\n",
    "def clean_tweet(tweet):\n",
    "    result = ' '.join(re.sub(r\"http\\S+\", \"\", tweet).split())\n",
    "    smtr = ' '.join(re.sub(r'@[A-Za-z0-9]+','',result).split()) \n",
    "    smtr = ' '.join(re.sub('https?://[A-Za-z0-9./]+','',smtr).split())\n",
    "    smtr = ' '.join(re.sub(\"[^a-zA-Z]\", \" \", smtr).split())\n",
    "    smtr = ' '.join(re.sub(\"RT\", \" \", smtr).split())\n",
    "    return smtr\n",
    "\n",
    "clntwt = []\n",
    "i = 0\n",
    "while i < len(dt_tweet):\n",
    "    baru = clean_tweet(clnhtml[i])\n",
    "    clntwt.append(baru)\n",
    "    i += 1\n",
    "    \n",
    "#print(clntwt[100])"
   ]
  },
  {
   "cell_type": "code",
   "execution_count": 59,
   "metadata": {},
   "outputs": [],
   "source": [
    "def word_tokenization(s):\n",
    "    tokens = word_tokenize(s)\n",
    "\n",
    "    return tokens\n",
    "\n",
    "stop_words = set(stopwords.words('english')) \n",
    "    \n",
    "def stpword(str):\n",
    "    word_tokens = word_tokenize(str) \n",
    "    filtered_sentence = [w for w in word_tokens if not w in stop_words]  \n",
    "    filtered_sentence = [] \n",
    "    \n",
    "    for w in word_tokens: \n",
    "        if w not in stop_words: \n",
    "            filtered_sentence.append(w)\n",
    "    return filtered_sentence\n",
    "\n",
    "stpwrd = []\n",
    "i = 0\n",
    "while i < len(dt_tweet):\n",
    "    baru = ' '.join(stpword(clntwt[i]))\n",
    "    stpwrd.append(baru)\n",
    "    i += 1\n",
    "\n",
    "#print(stpwrd[100])"
   ]
  },
  {
   "cell_type": "code",
   "execution_count": 58,
   "metadata": {},
   "outputs": [],
   "source": [
    "dicti = []\n",
    "j = 0\n",
    "while j < len(dt_tweet):\n",
    "    train = (stpwrd[j], sntmn[j])\n",
    "    dicti.append(train)\n",
    "    j += 1\n",
    "\n",
    "#print(dicti)\n",
    "\n",
    "#print(dicti[5])"
   ]
  },
  {
   "cell_type": "code",
   "execution_count": 56,
   "metadata": {},
   "outputs": [
    {
     "name": "stdout",
     "output_type": "stream",
     "text": [
      "Not Relevant\n"
     ]
    }
   ],
   "source": [
    "cl = NaiveBayesClassifier(dicti)\n",
    "#cl.classify(\"I feel amazing!\")\n",
    "blob = TextBlob(\"arsenal is playing tonight\", classifier=cl)\n",
    "print(blob.classify())"
   ]
  },
  {
   "cell_type": "code",
   "execution_count": 57,
   "metadata": {},
   "outputs": [
    {
     "name": "stdout",
     "output_type": "stream",
     "text": [
      "Relevant\n"
     ]
    }
   ],
   "source": [
    "cls = NaiveBayesClassifier(dicti)\n",
    "#cl.classify(\"I feel amazing!\")\n",
    "blob = TextBlob(\"shelter place for all residents\", classifier=cls)\n",
    "print(blob.classify())"
   ]
  }
 ],
 "metadata": {
  "kernelspec": {
   "display_name": "Python 3",
   "language": "python",
   "name": "python3"
  },
  "language_info": {
   "codemirror_mode": {
    "name": "ipython",
    "version": 3
   },
   "file_extension": ".py",
   "mimetype": "text/x-python",
   "name": "python",
   "nbconvert_exporter": "python",
   "pygments_lexer": "ipython3",
   "version": "3.7.0"
  }
 },
 "nbformat": 4,
 "nbformat_minor": 2
}
