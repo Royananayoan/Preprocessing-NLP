{
 "cells": [
  {
   "cell_type": "code",
   "execution_count": 5,
   "metadata": {},
   "outputs": [],
   "source": [
    "import nltk #import library nltk\n",
    "from nltk.tokenize import word_tokenize #import word_tokenize for tokenizing text into words \n",
    "from nltk.tokenize import sent_tokenize #import sent_tokenize for tokenizing paragraph into sentences\n",
    "from nltk.stem.porter import PorterStemmer #import Porter Stemmer Algorithm \n",
    "from nltk.stem import WordNetLemmatizer #import WordNet lemmatizer \n",
    "from nltk.corpus import stopwords #import stopwords\n",
    "from nltk.tokenize import RegexpTokenizer\n",
    "from Sastrawi.StopWordRemover.StopWordRemoverFactory import StopWordRemoverFactory\n",
    "from Sastrawi.Stemmer.StemmerFactory import StemmerFactory #import Indonesian Stemmer\n",
    "import re #import regular expression"
   ]
  },
  {
   "cell_type": "code",
   "execution_count": 27,
   "metadata": {},
   "outputs": [],
   "source": [
    "#casefolding\n",
    "def casefolding(s):\n",
    "    new_str = s.lower()\n",
    "    \n",
    "    return new_str\n",
    "\n",
    "#remove digit from string\n",
    "def removeDigit(str):\n",
    "    new_string =  re.sub(r\"[,(.)][^:/]\", \" \", str)\n",
    "    return new_string\n",
    "\n",
    "\n",
    "factory = StopWordRemoverFactory()\n",
    "stopword = factory.create_stop_word_remover()\n",
    "stop_words = set(stopwords.words('indonesian')) \n",
    "    \n",
    "def stpword(str):\n",
    "    word_tokens = word_tokenize(str) \n",
    "    filtered_sentence = [w for w in word_tokens if not w in stop_words]  \n",
    "    filtered_sentence = [] \n",
    "    \n",
    "    for w in word_tokens: \n",
    "        if w not in stop_words: \n",
    "            filtered_sentence.append(w)\n",
    "    return filtered_sentence\n",
    "\n",
    "def word_tokenization(s):\n",
    "    tokens = word_tokenize(s)\n",
    "\n",
    "    return tokens\n",
    "\n",
    "#Stemming Indonesian\n",
    "def stemmingIndo(str):\n",
    "    factory = StemmerFactory()\n",
    "    stemmer = factory.create_stemmer()\n",
    "    return stemmer.stem(str)\n",
    "\n",
    "#pos tagging\n",
    "def postag(str):\n",
    "    tok_sentence = nltk.word_tokenize(str)\n",
    "    tagged_sentence = nltk.pos_tag(tok_sentence)\n",
    "    return tagged_sentence\n"
   ]
  },
  {
   "cell_type": "code",
   "execution_count": 48,
   "metadata": {},
   "outputs": [
    {
     "name": "stdout",
     "output_type": "stream",
     "text": [
      "[('menelusuri', 'NN'), ('dilakukan', 'NN'), ('tengah', 'NN'), ('pukul', 'NN'), ('satu', 'NN'), ('cnnindonesia', 'NN'), ('tahu', 'NN'), ('humas', 'NN'), ('eviyanto', 'IN'), ('kata', 'NNS'), ('gegana', 'NNS'), ('melalui', 'VBP'), ('berada', 'JJ'), ('dievakusi', 'NN'), ('pantauan', 'NN'), ('mobil', 'NN'), ('seberang', 'NN'), ('indonesia', 'NN'), ('informasi', 'NN'), ('kami', 'NN'), ('ruangan', 'NN'), ('dari', 'VBZ'), ('disterilkan', 'JJ'), ('melapor', 'NN'), ('polda', 'NN'), ('mahkamah', 'NN'), ('selasa', 'NN'), ('sini', 'NN'), ('telepon', 'NN'), ('negeri', 'NN'), ('gedung', 'VBD'), ('14:00', 'CD'), ('teror', 'NN'), ('agung', 'NN'), ('sterilisasi', 'NN'), ('terparkir', 'NN'), ('tahanan', 'NN'), ('pengadilan', 'NN'), ('segera', 'VBD'), ('5/09/2018', 'CD'), ('brimob', 'NN'), ('kantornya', 'NN'), ('disampaikan', 'NN'), ('depan', 'NN'), ('diterima', 'NN'), ('dikosongkan', 'NN'), ('setelah', 'NN'), ('disebut', 'NN'), ('pegawai', 'NN'), ('ancaman', 'NN'), ('serang', 'VBD'), ('seluruh', 'JJ'), ('unit', 'NN'), ('ketua', 'NN'), ('didapat', 'NN'), ('halaman', 'NN'), ('banten', 'VBD'), ('ditemui', 'JJ'), ('mendapat', 'NN'), ('mengaku', 'NN')]\n"
     ]
    }
   ],
   "source": [
    "def main():\n",
    "    file = open('ADAANCAMANBOMASLI.txt', 'r')\n",
    "    text_data = file.read()\n",
    "    stop = casefolding(text_data)\n",
    "    stop1 = removeDigit(stop)\n",
    "    stop2 = stopword.remove(stop1)\n",
    "    str1 = ''.join(stop2)\n",
    "    listOK = word_tokenization(str1)\n",
    "    listOK1 = list(set(listOK))\n",
    "    str2 = ' '.join(listOK1)\n",
    "    FIX2 = ' '.join( [w for w in str2.split() if len(w)>3])\n",
    "    stem = stemmingIndo(FIX2)\n",
    "    ok = postag(FIX2)\n",
    "    print(ok)\n",
    "    \n",
    "if __name__== \"__main__\":\n",
    "    main()"
   ]
  }
 ],
 "metadata": {
  "kernelspec": {
   "display_name": "Python 3",
   "language": "python",
   "name": "python3"
  },
  "language_info": {
   "codemirror_mode": {
    "name": "ipython",
    "version": 3
   },
   "file_extension": ".py",
   "mimetype": "text/x-python",
   "name": "python",
   "nbconvert_exporter": "python",
   "pygments_lexer": "ipython3",
   "version": "3.6.5"
  }
 },
 "nbformat": 4,
 "nbformat_minor": 2
}
